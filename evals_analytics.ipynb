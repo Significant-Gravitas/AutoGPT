{
 "cells": [
  {
   "cell_type": "code",
   "execution_count": 22,
   "metadata": {},
   "outputs": [
    {
     "data": {
      "image/png": "[encoded data removed]",
      "text/plain": [
       "<Figure size 432x288 with 1 Axes>"
      ]
     },
     "metadata": {
      "needs_background": "light"
     },
     "output_type": "display_data"
    }
   ],
   "source": [
    "import os\n",
    "import json\n",
    "import matplotlib.pyplot as plt\n",
    "\n",
    "def load_jsonl_files_recursively(dir_path):\n",
    "    all_data = []\n",
    "    \n",
    "    for root, _, files in os.walk(dir_path):\n",
    "        for file in files:\n",
    "            if file.endswith(\".jsonl\"):\n",
    "                file_path = os.path.join(root, file)\n",
    "                with open(file_path, \"r\") as f:\n",
    "                    file_data = [json.loads(line) for line in f]\n",
    "                    all_data.extend(file_data)\n",
    "    \n",
    "    return all_data\n",
    "\n",
    "def extract_accuracies(data):\n",
    "    accuracies = []\n",
    "    for record in data:\n",
    "        if 'final_report' in record:\n",
    "            accuracy = record['final_report']['accuracy']\n",
    "            accuracies.append(accuracy)\n",
    "    return accuracies\n",
    "\n",
    "# Load the data recursively\n",
    "dir_path = \"evals\"\n",
    "data = load_jsonl_files_recursively(dir_path)\n",
    "\n",
    "# Extract accuracies from the data\n",
    "accuracies = extract_accuracies(data)\n",
    "\n",
    "# Plot the accuracies in a histogram chart\n",
    "plt.hist(accuracies, bins=100, range=(0, 1), edgecolor='black')\n",
    "plt.xlabel(\"Accuracy\")\n",
    "plt.ylabel(\"Frequency\")\n",
    "plt.title(\"Accuracy Histogram\")\n",
    "plt.show()\n"
   ]
  },
  {
   "cell_type": "code",
   "execution_count": 26,
   "metadata": {},
   "outputs": [
    {
     "name": "stdout",
     "output_type": "stream",
     "text": [
      "Counts for each eval_name:\n",
      "test-match.s1.simple-v0: 22\n",
      "None: 45\n",
      "test-fuzzy-match.s1.simple-v0: 2\n"
     ]
    }
   ],
   "source": [
    "import os\n",
    "import json\n",
    "import numpy as np\n",
    "import pandas as pd\n",
    "import matplotlib.pyplot as plt\n",
    "\n",
    "def print_graph():\n",
    "    directory = 'evals/'\n",
    "    files = os.listdir(directory)\n",
    "    \n",
    "    eval_name_counter = {}\n",
    "    \n",
    "    for file in files:\n",
    "        if file.endswith(\".jsonl\"):\n",
    "            with open(os.path.join(directory, file), 'r') as f:\n",
    "                jsonl_content = f.read()\n",
    "                \n",
    "            # Read the JSONL content into a DataFrame\n",
    "            data = [json.loads(line) for line in jsonl_content.split('\\n') if line]\n",
    "            df = pd.DataFrame(data)\n",
    "\n",
    "            if 'spec' not in df.columns:\n",
    "                continue\n",
    "\n",
    "            # Extract the \"eval_name\" from the \"spec\" dictionaries\n",
    "            df['eval_name'] = df['spec'].apply(lambda x: x['eval_name'] if isinstance(x, dict) else None)\n",
    "\n",
    "            for eval_name in df['eval_name']:\n",
    "                if eval_name not in eval_name_counter:\n",
    "                    eval_name_counter[eval_name] = 0\n",
    "                eval_name_counter[eval_name] += 1\n",
    "\n",
    "    # Print the counts\n",
    "    print(\"Counts for each eval_name:\")\n",
    "    for eval_name, count in eval_name_counter.items():\n",
    "        print(f\"{eval_name}: {count}\")\n",
    "\n",
    "print_graph()\n"
   ]
  },
  {
   "cell_type": "code",
   "execution_count": 27,
   "metadata": {},
   "outputs": [
    {
     "name": "stdout",
     "output_type": "stream",
     "text": [
      "Counts for each eval_name:\n",
      "test-match.s1.simple-v0: 22\n",
      "test-fuzzy-match.s1.simple-v0: 2\n"
     ]
    }
   ],
   "source": [
    "import os\n",
    "import json\n",
    "import numpy as np\n",
    "import pandas as pd\n",
    "import matplotlib.pyplot as plt\n",
    "\n",
    "def print_graph():\n",
    "    directory = 'evals/'\n",
    "    files = os.listdir(directory)\n",
    "    \n",
    "    eval_name_counter = {}\n",
    "    \n",
    "    for file in files:\n",
    "        if file.endswith(\".jsonl\"):\n",
    "            with open(os.path.join(directory, file), 'r') as f:\n",
    "                jsonl_content = f.read()\n",
    "                \n",
    "            # Read the JSONL content into a DataFrame\n",
    "            data = [json.loads(line) for line in jsonl_content.split('\\n') if line]\n",
    "            df = pd.DataFrame(data)\n",
    "\n",
    "            if 'spec' not in df.columns:\n",
    "                continue\n",
    "\n",
    "            # Filter the DataFrame to only include rows with the \"spec\" key\n",
    "            spec_df = df[df['spec'].notna()].copy()\n",
    "\n",
    "            # Extract the \"eval_name\" from the \"spec\" dictionaries\n",
    "            spec_df.loc[:, 'eval_name'] = spec_df['spec'].apply(lambda x: x['eval_name'])\n",
    "\n",
    "            for eval_name in spec_df['eval_name']:\n",
    "                if eval_name not in eval_name_counter:\n",
    "                    eval_name_counter[eval_name] = 0\n",
    "                eval_name_counter[eval_name] += 1\n",
    "\n",
    "    # Print the counts\n",
    "    print(\"Counts for each eval_name:\")\n",
    "    for eval_name, count in eval_name_counter.items():\n",
    "        print(f\"{eval_name}: {count}\")\n",
    "\n",
    "print_graph()\n"
   ]
  },
  {
   "cell_type": "code",
   "execution_count": null,
   "metadata": {},
   "outputs": [],
   "source": []
  },
  {
   "cell_type": "code",
   "execution_count": null,
   "metadata": {},
   "outputs": [],
   "source": []
  }
 ],
 "metadata": {
  "kernelspec": {
   "display_name": "Python 3.10.0 64-bit",
   "language": "python",
   "name": "python3"
  },
  "language_info": {
   "codemirror_mode": {
    "name": "ipython",
    "version": 3
   },
   "file_extension": ".py",
   "mimetype": "text/x-python",
   "name": "python",
   "nbconvert_exporter": "python",
   "pygments_lexer": "ipython3",
   "version": "3.10.0"
  },
  "orig_nbformat": 4,
  "vscode": {
   "interpreter": {
    "hash": "aee8b7b246df8f9039afb4144a1f6fd8d2ca17a180786b69acc140d282b71a49"
   }
  }
 },
 "nbformat": 4,
 "nbformat_minor": 2
}
